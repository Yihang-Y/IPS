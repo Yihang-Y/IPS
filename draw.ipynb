{
 "cells": [
  {
   "cell_type": "code",
   "execution_count": null,
   "metadata": {},
   "outputs": [],
   "source": [
    "import re\n",
    "from matplotlib import pyplot as plt\n",
    "\n",
    "with open(\"output.txt\", \"r\") as file:\n",
    "    lines = file.readlines()\n",
    "\n",
    "trajectories = {} \n",
    "current_traj = None\n",
    "\n",
    "for line in lines:\n",
    "    line = line.strip()\n",
    "\n",
    "    # find the trajectory number\n",
    "    match = re.match(r\"# Trajectory (\\d+):\", line)\n",
    "    if match:\n",
    "        current_traj = int(match.group(1))\n",
    "        trajectories[current_traj] = []\n",
    "        continue\n",
    "\n",
    "    if current_traj is not None and re.match(r\"[-\\d. ]+\", line):\n",
    "        values = list(map(float, line.split())) \n",
    "        trajectories[current_traj].extend(values)\n",
    "\n",
    "print(\"we have trajectories:\", trajectories.keys())"
   ]
  },
  {
   "cell_type": "code",
   "execution_count": null,
   "metadata": {},
   "outputs": [],
   "source": [
    "# show trajectories with respect to time\n",
    "fig, axs = plt.subplots(len(trajectories), 2, figsize=(15, 5 * len(trajectories)))\n",
    "\n",
    "for i, (traj_id, traj) in enumerate(trajectories.items()):\n",
    "    # Plot trajectory\n",
    "    axs[i, 0].plot(traj)\n",
    "    axs[i, 0].set_title(f'Trajectory {traj_id} over Time')\n",
    "    axs[i, 0].set_xlabel('Time')\n",
    "    axs[i, 0].set_ylabel('Value')\n",
    "    \n",
    "    # Plot histogram\n",
    "    axs[i, 1].hist(traj, bins=20)\n",
    "    axs[i, 1].set_title(f'Histogram of Trajectory {traj_id}')\n",
    "    axs[i, 1].set_xlabel('Value')\n",
    "    axs[i, 1].set_ylabel('Frequency')\n",
    "\n",
    "plt.tight_layout()\n",
    "plt.show()"
   ]
  }
 ],
 "metadata": {
  "kernelspec": {
   "display_name": "IPS",
   "language": "python",
   "name": "python3"
  },
  "language_info": {
   "codemirror_mode": {
    "name": "ipython",
    "version": 3
   },
   "file_extension": ".py",
   "mimetype": "text/x-python",
   "name": "python",
   "nbconvert_exporter": "python",
   "pygments_lexer": "ipython3",
   "version": "3.13.2"
  }
 },
 "nbformat": 4,
 "nbformat_minor": 2
}
