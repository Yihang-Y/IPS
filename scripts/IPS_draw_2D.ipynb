{
 "cells": [
  {
   "cell_type": "code",
   "execution_count": null,
   "metadata": {},
   "outputs": [],
   "source": [
    "# read particle data from a file and plot it\n",
    "import numpy as np\n",
    "from matplotlib.animation import FuncAnimation\n",
    "import matplotlib.pyplot as plt\n",
    "import sys\n",
    "from IPython.display import HTML\n",
    "\n",
    "sys.path.append('./..')\n",
    "\n",
    "# read data from file\n",
    "# each line is the position of a particle at a given time\n",
    "# and between different time steps there is a blank line\n",
    "# and plot it in an animation\n",
    "# Function to read particle data from file\n",
    "def read_particle_data(filename):\n",
    "    with open(filename, 'r') as file:\n",
    "        data = file.read().strip().split('\\n\\n')\n",
    "        \n",
    "    particle_data = []\n",
    "    for block in data:\n",
    "        block_data = []\n",
    "        for line in block.split('\\n'):\n",
    "            try:\n",
    "                arr = list(map(float, line.split(\" \")))[:2]\n",
    "            except ValueError:\n",
    "                print(f\"Error reading line: {line}\")\n",
    "                continue\n",
    "            block_data.append(arr)\n",
    "        if block_data != []:\n",
    "            particle_data.append(np.array(block_data))\n",
    "    return particle_data\n",
    "\n",
    "particle_data = read_particle_data('output.txt')\n",
    "print(len(particle_data))"
   ]
  },
  {
   "cell_type": "code",
   "execution_count": null,
   "metadata": {},
   "outputs": [],
   "source": [
    "fig = plt.figure()\n",
    "# Function to update the plot\n",
    "def update(frame):\n",
    "    plt.clf()\n",
    "    plt.scatter(particle_data[frame][:, 0], particle_data[frame][:, 1], s = 2)\n",
    "    # draw a circle with radius 2 and 3 in the plot\n",
    "    circle1 = plt.Circle((0, 0), 2, color='r', fill=False)\n",
    "    circle2 = plt.Circle((0, 0), 3, color='r', fill=False)\n",
    "    plt.gca().add_artist(circle1)\n",
    "    plt.gca().add_artist(circle2)\n",
    "    plt.xlim(-5, 5)\n",
    "    plt.ylim(-5, 5)\n",
    "    plt.title(f'Time step: {frame * 10}')\n",
    "# Create animation\n",
    "ani = FuncAnimation(fig, update, frames=range(0, len(particle_data), 10), repeat=False)\n",
    "\n",
    "HTML(ani.to_jshtml())"
   ]
  }
 ],
 "metadata": {
  "kernelspec": {
   "display_name": "IPS",
   "language": "python",
   "name": "python3"
  },
  "language_info": {
   "codemirror_mode": {
    "name": "ipython",
    "version": 3
   },
   "file_extension": ".py",
   "mimetype": "text/x-python",
   "name": "python",
   "nbconvert_exporter": "python",
   "pygments_lexer": "ipython3",
   "version": "3.13.2"
  }
 },
 "nbformat": 4,
 "nbformat_minor": 2
}
