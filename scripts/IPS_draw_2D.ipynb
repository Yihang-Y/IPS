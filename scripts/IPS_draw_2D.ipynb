{
 "cells": [
  {
   "cell_type": "markdown",
   "metadata": {},
   "source": [
    "MARK TO LOOK INTO 3D GRAPHING, animations if possible"
   ]
  },
  {
   "cell_type": "code",
   "execution_count": null,
   "metadata": {},
   "outputs": [],
   "source": [
    "# read particle data from a file and plot it\n",
    "import numpy as np\n",
    "from matplotlib.animation import FuncAnimation\n",
    "import matplotlib.pyplot as plt\n",
    "import sys\n",
    "from IPython.display import HTML\n",
    "import wrappers\n",
    "import platform\n",
    "import importlib\n",
    "\n",
    "# use_wsl is passed to wrappers to determine how to run the executable depending on system\n",
    "system_type = platform.system()\n",
    "if system_type == 'Windows':\n",
    "    use_wsl = True\n",
    "else:\n",
    "    use_wsl = False"
   ]
  },
  {
   "cell_type": "code",
   "execution_count": null,
   "metadata": {},
   "outputs": [],
   "source": [
    "importlib.reload(wrappers)"
   ]
  },
  {
   "cell_type": "code",
   "execution_count": null,
   "metadata": {},
   "outputs": [],
   "source": [
    "n_steps = 1000\n",
    "step_size = 0.001\n",
    "num_particles = 8\n",
    "dim = 2\n",
    "output_interval = 1\n",
    "path_to_exe = \"./../build/IPS\""
   ]
  },
  {
   "cell_type": "code",
   "execution_count": null,
   "metadata": {},
   "outputs": [],
   "source": [
    "particle_data = wrappers.IPS(n_steps, step_size, num_particles, dim, output_interval, path_to_exe, use_wsl)\n",
    "print(len(particle_data))"
   ]
  },
  {
   "cell_type": "code",
   "execution_count": null,
   "metadata": {},
   "outputs": [],
   "source": [
    "fig = plt.figure()\n",
    "# Function to update the plot\n",
    "def update(frame):\n",
    "    plt.clf()\n",
    "    plt.scatter(particle_data[frame][:, 0], particle_data[frame][:, 1], s = 2)\n",
    "    # draw a circle with radius 2 and 3 in the plot\n",
    "    circle1 = plt.Circle((0, 0), 2, color='r', fill=False)\n",
    "    circle2 = plt.Circle((0, 0), 3, color='r', fill=False)\n",
    "    plt.gca().add_artist(circle1)\n",
    "    plt.gca().add_artist(circle2)\n",
    "    plt.xlim(-5, 5)\n",
    "    plt.ylim(-5, 5)\n",
    "    plt.title(f'Time step: {frame * 10}')\n",
    "# Create animation\n",
    "ani = FuncAnimation(fig, update, frames=range(0, len(particle_data), 10), repeat=False)\n",
    "\n",
    "HTML(ani.to_jshtml())"
   ]
  }
 ],
 "metadata": {
  "kernelspec": {
   "display_name": "IPS",
   "language": "python",
   "name": "python3"
  },
  "language_info": {
   "codemirror_mode": {
    "name": "ipython",
    "version": 3
   },
   "file_extension": ".py",
   "mimetype": "text/x-python",
   "name": "python",
   "nbconvert_exporter": "python",
   "pygments_lexer": "ipython3",
   "version": "3.13.2"
  }
 },
 "nbformat": 4,
 "nbformat_minor": 2
}
