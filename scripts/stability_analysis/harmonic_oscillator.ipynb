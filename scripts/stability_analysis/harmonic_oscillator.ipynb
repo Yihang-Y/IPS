{
 "cells": [
  {
   "cell_type": "code",
   "execution_count": null,
   "metadata": {},
   "outputs": [],
   "source": [
    "import numpy as np\n",
    "import matplotlib.pyplot as plt\n",
    "import helpers as hp"
   ]
  },
  {
   "cell_type": "code",
   "execution_count": null,
   "metadata": {},
   "outputs": [],
   "source": [
    "import importlib\n",
    "importlib.reload(hp)"
   ]
  },
  {
   "cell_type": "markdown",
   "metadata": {},
   "source": [
    "here we investigate the stability threshold of the leapfrog integrator on a harmonic oscillator for various $\\omega$ ."
   ]
  },
  {
   "cell_type": "code",
   "execution_count": null,
   "metadata": {},
   "outputs": [],
   "source": [
    "ws = np.linspace(1, 10, 20)\n",
    "\n",
    "# this should be largely independent of the initial conditions, so we will always let these be the same\n",
    "h_init = 1\n",
    "x0 = np.array([1])\n",
    "p0 = np.array([-1])\n",
    "n_steps = 10000"
   ]
  },
  {
   "cell_type": "code",
   "execution_count": null,
   "metadata": {},
   "outputs": [],
   "source": [
    "thresholds = [None] * len(ws)\n",
    "for i, w in enumerate(ws):\n",
    "    f = lambda x: -w**2 * x\n",
    "    integrator = lambda h, n_steps: hp.leapfrog_integrate(x0, p0, n_steps, h, f)\n",
    "    thresholds[i] = hp.get_stability_threshold(integrator, h_init, n_integration_steps = n_steps)"
   ]
  },
  {
   "cell_type": "code",
   "execution_count": null,
   "metadata": {},
   "outputs": [],
   "source": [
    "plt.scatter(ws, thresholds, label = \"data\")\n",
    "plt.plot(ws, 2/ws, label = \"$h^* = 2/\\omega$\")\n",
    "plt.xlabel(\"$\\omega$\")\n",
    "plt.ylabel(\"$h^*$\")\n",
    "plt.legend()\n",
    "plt.show()"
   ]
  }
 ],
 "metadata": {
  "kernelspec": {
   "display_name": "Python 3",
   "language": "python",
   "name": "python3"
  },
  "language_info": {
   "codemirror_mode": {
    "name": "ipython",
    "version": 3
   },
   "file_extension": ".py",
   "mimetype": "text/x-python",
   "name": "python",
   "nbconvert_exporter": "python",
   "pygments_lexer": "ipython3",
   "version": "3.8.10"
  }
 },
 "nbformat": 4,
 "nbformat_minor": 2
}
