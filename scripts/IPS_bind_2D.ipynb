{
 "cells": [
  {
   "cell_type": "code",
   "execution_count": 4,
   "metadata": {},
   "outputs": [],
   "source": [
    "import sys\n",
    "sys.path.append('../build')\n",
    "\n",
    "import IPSModule as ips"
   ]
  },
  {
   "cell_type": "code",
   "execution_count": 5,
   "metadata": {},
   "outputs": [],
   "source": [
    "import numpy as np\n",
    "\n",
    "num_particles = 100\n",
    "p = ips.Particles(num_particles)\n",
    "\n",
    "# use random seed, to generate random numbers\n",
    "pmin, pmax = -1, 1\n",
    "vmin, vmax = -2, 2\n",
    "\n",
    "np.random.seed(42)  # for reproducibility\n",
    "\n",
    "for i in range(num_particles):\n",
    "    for d in range(2):\n",
    "        p.get_positions()[d][i] = np.random.uniform(pmin, pmax)\n",
    "        p.get_velocities()[d][i] = np.random.uniform(vmin, vmax)\n",
    "\n",
    "pair_force = ips.Spring(1.0, 1.0)\n",
    "confinement = ips.RadialConfinement(2.0)\n",
    "\n",
    "intergrator = ips.LeapFrog()\n",
    "simulator = ips.IPS_Simulator(p)"
   ]
  },
  {
   "cell_type": "code",
   "execution_count": null,
   "metadata": {},
   "outputs": [],
   "source": [
    "import matplotlib.pyplot as plt\n",
    "import matplotlib.animation as animation\n",
    "from IPython.display import HTML\n",
    "\n",
    "num_steps = 100000\n",
    "draw_interval = 100\n",
    "dt = 0.01\n",
    "\n",
    "fig, ax = plt.subplots()\n",
    "scat = ax.scatter([], [])\n",
    "\n",
    "w_min, w_max = -5, 5\n",
    "def init():\n",
    "    circle1 = plt.Circle((0, 0), 2, color='r', fill=False)\n",
    "    circle2 = plt.Circle((0, 0), 3, color='r', fill=False)\n",
    "    ax.add_artist(circle1)\n",
    "    ax.add_artist(circle2)\n",
    "    ax.set_xlim(w_min, w_max)\n",
    "    ax.set_ylim(w_min, w_max)\n",
    "    return scat,\n",
    "\n",
    "\n",
    "def update(frame):\n",
    "    simulator.integrate_n_steps(dt, draw_interval)\n",
    "\n",
    "    positions = p.get_positions()\n",
    "    scat.set_offsets(np.c_[positions[0], positions[1]])\n",
    "    return scat,\n",
    "\n",
    "ani = animation.FuncAnimation(fig, update, frames=range(0, num_steps, draw_interval), init_func=init, blit=True)\n",
    "\n",
    "HTML(ani.to_jshtml())"
   ]
  },
  {
   "cell_type": "code",
   "execution_count": null,
   "metadata": {},
   "outputs": [],
   "source": [
    "import time\n",
    "num_particles_list = [10, 50, 100, 200, 500, 1000, 1500]\n",
    "elapsed_times = []\n",
    "\n",
    "for num_particles in num_particles_list:\n",
    "    p = ips.Particles(num_particles)\n",
    "\n",
    "    # use random seed, to generate random numbers\n",
    "    pmin, pmax = -1, 1\n",
    "    vmin, vmax = -2, 2\n",
    "\n",
    "    np.random.seed(42)  # for reproducibility\n",
    "\n",
    "    for i in range(num_particles):\n",
    "        for d in range(2):\n",
    "            p.get_positions()[d][i] = np.random.uniform(pmin, pmax)\n",
    "            p.get_velocities()[d][i] = np.random.uniform(vmin, vmax)\n",
    "\n",
    "    simulator = ips.IPS_Simulator(p)\n",
    "\n",
    "    start = time.time()\n",
    "    simulator.integrate_n_steps(0.0001, 2000)\n",
    "    end = time.time()\n",
    "    elapsed_time = end - start\n",
    "    elapsed_times.append(elapsed_time)\n",
    "    print(f\"Elapsed time for {num_particles} particles: {elapsed_time}\")"
   ]
  },
  {
   "cell_type": "code",
   "execution_count": null,
   "metadata": {},
   "outputs": [],
   "source": [
    "# Plot the results\n",
    "plt.figure()\n",
    "plt.plot(num_particles_list, elapsed_times, marker='o')\n",
    "plt.xlabel('Number of Particles')\n",
    "plt.ylabel('Elapsed Time (s)')\n",
    "plt.title('Simulation Time vs Number of Particles')\n",
    "plt.grid(True)\n",
    "plt.show()"
   ]
  }
 ],
 "metadata": {
  "kernelspec": {
   "display_name": "IPS",
   "language": "python",
   "name": "python3"
  },
  "language_info": {
   "codemirror_mode": {
    "name": "ipython",
    "version": 3
   },
   "file_extension": ".py",
   "mimetype": "text/x-python",
   "name": "python",
   "nbconvert_exporter": "python",
   "pygments_lexer": "ipython3",
   "version": "3.13.2"
  }
 },
 "nbformat": 4,
 "nbformat_minor": 2
}
