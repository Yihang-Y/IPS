{
 "cells": [
  {
   "cell_type": "code",
   "execution_count": null,
   "metadata": {},
   "outputs": [],
   "source": [
    "from matplotlib import pyplot as plt\n",
    "import numpy as np\n",
    "import wrappers\n",
    "from scipy.stats import wasserstein_distance\n",
    "import platform\n",
    "\n",
    "# use_wsl is passed to wrappers.BrownianMotionMain to determine how to run the executable depending on system\n",
    "system_type = platform.system()\n",
    "if system_type == 'Windows':\n",
    "    use_wsl = True\n",
    "else:\n",
    "    use_wsl = False"
   ]
  },
  {
   "cell_type": "code",
   "execution_count": null,
   "metadata": {},
   "outputs": [],
   "source": [
    "n_steps = 100000\n",
    "step_size_arr = [0.001, 0.001, 0.001, 0.001] # for compatibility with plotting code\n",
    "n_trajects = 4\n",
    "\n",
    "trajectories = wrappers.BrownianMotionMain(n_steps, step_size_arr[0], n_trajects, \"./../build/1D_OL\", use_wsl = use_wsl)"
   ]
  },
  {
   "cell_type": "code",
   "execution_count": 3,
   "metadata": {},
   "outputs": [],
   "source": [
    "def pot(x):\n",
    "    return (x**2 - 1) ** 2\n",
    "\n",
    "beta = 1.0\n",
    "\n",
    "def invariant_dist(x):\n",
    "    return np.exp( beta * -pot(x))"
   ]
  },
  {
   "cell_type": "code",
   "execution_count": null,
   "metadata": {},
   "outputs": [],
   "source": [
    "wasserstein_distances = []\n",
    "\n",
    "# show trajectories with respect to time\n",
    "fig, axs = plt.subplots(len(trajectories), 2, figsize=(15, 5 * len(trajectories)))\n",
    "\n",
    "for i, (step_s, traj) in enumerate(zip(step_size_arr, trajectories)):\n",
    "    # Plot trajectory\n",
    "    axs[i, 0].plot(traj)\n",
    "    axs[i, 0].set_title(f'Trajectory {i + 1} over Time, with step size {step_s}')\n",
    "    axs[i, 0].set_xlabel('Time')\n",
    "    axs[i, 0].set_ylabel('Value')\n",
    "    \n",
    "    # Plot histogram\n",
    "    try:\n",
    "        hist, bins = np.histogram(traj, bins=30, density=True)\n",
    "        midx = (bins[1:] + bins[:-1]) / 2\n",
    "        rho = np.exp(-beta * pot(midx))\n",
    "        rho = rho / (rho.sum() * (midx[1] - midx[0]))\n",
    "        axs[i, 1].plot(midx, hist, label='Empirical')\n",
    "        axs[i, 1].plot(midx, rho, label='Theoretical')\n",
    "        # axs[i, 1].set_title(f'Histogram of Trajectory {i + 1}, with step size {step_s}')\n",
    "        axs[i, 1].set_xlabel('Value')\n",
    "        axs[i, 1].set_ylabel('Frequency')\n",
    "\n",
    "        # Calculate Wasserstein distance\n",
    "        wasserstein_distances.append(wasserstein_distance(hist, rho))\n",
    "    except Exception as e:\n",
    "        print(f\"Error plotting histogram number {i}: {e}\")    \n",
    "\n",
    "plt.tight_layout()\n",
    "plt.show()"
   ]
  },
  {
   "cell_type": "code",
   "execution_count": null,
   "metadata": {},
   "outputs": [],
   "source": [
    "# show how the wasserstein distance changes with respect to the step size\n",
    "# we slice step size array because some step sizes might have failed\n",
    "plt.plot(step_size_arr[:len(wasserstein_distances)], wasserstein_distances)\n",
    "plt.xlabel(\"Stepsize\")\n",
    "plt.ylabel(\"wasserstein distance\")\n",
    "plt.show()"
   ]
  }
 ],
 "metadata": {
  "kernelspec": {
   "display_name": "pgt-python",
   "language": "python",
   "name": "python3"
  },
  "language_info": {
   "codemirror_mode": {
    "name": "ipython",
    "version": 3
   },
   "file_extension": ".py",
   "mimetype": "text/x-python",
   "name": "python",
   "nbconvert_exporter": "python",
   "pygments_lexer": "ipython3",
   "version": "3.10.15"
  }
 },
 "nbformat": 4,
 "nbformat_minor": 2
}
