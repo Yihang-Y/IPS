{
 "cells": [
  {
   "cell_type": "code",
   "execution_count": 4,
   "metadata": {},
   "outputs": [],
   "source": [
    "import sys\n",
    "sys.path.append(\"./../build\")\n",
    "import ODModule as bm"
   ]
  },
  {
   "cell_type": "code",
   "execution_count": 7,
   "metadata": {},
   "outputs": [
    {
     "name": "stdout",
     "output_type": "stream",
     "text": [
      "===== Performance test using lambdas =====\n",
      "Time elapsed:  0.41318798065185547\n",
      "===== Performance test without lambdas =====\n",
      "Time elapsed:  0.06490802764892578\n"
     ]
    }
   ],
   "source": [
    "time_step = 0.01\n",
    "n_steps = 1000000\n",
    "\n",
    "# performance test using lambdas from python\n",
    "print(\"===== Performance test using lambdas =====\")\n",
    "# init_pos = bm.position([0])\n",
    "func = lambda pos: -4 * pos[0] * (pos[0] * pos[0] - 1)\n",
    "odl = bm.OverdampedLangevin(1, func, [0])\n",
    "\n",
    "import time\n",
    "start = time.time()\n",
    "res = odl.getTrajectory(n_steps, time_step)\n",
    "end = time.time()\n",
    "print(\"Time elapsed: \", end-start)\n",
    "\n",
    "\n",
    "# performance test not using lambdas from python\n",
    "print(\"===== Performance test without lambdas =====\")\n",
    "init_pos = [0]\n",
    "odl = bm.OverdampedLangevin(1, init_pos)\n",
    "\n",
    "import time\n",
    "start = time.time()\n",
    "res = odl.getTrajectory(n_steps, time_step)\n",
    "end = time.time()\n",
    "print(\"Time elapsed: \", end-start)"
   ]
  },
  {
   "cell_type": "code",
   "execution_count": 8,
   "metadata": {},
   "outputs": [
    {
     "data": {
      "image/png": "[encoded data removed]",
      "text/plain": [
       "<Figure size 640x480 with 1 Axes>"
      ]
     },
     "metadata": {},
     "output_type": "display_data"
    }
   ],
   "source": [
    "from matplotlib import pyplot as plt\n",
    "_ = plt.hist(res, bins=20, density=True)"
   ]
  },
  {
   "cell_type": "code",
   "execution_count": 10,
   "metadata": {},
   "outputs": [
    {
     "name": "stdout",
     "output_type": "stream",
     "text": [
      "Time elapsed:  0.13882899284362793\n"
     ]
    }
   ],
   "source": [
    "init_pos = [[0]] * 8\n",
    "\n",
    "force_func = lambda pos: -4 * pos[0] *(pos[0]**2 - 1)\n",
    "odl = bm.BatchedOverdampedLangevin(1, init_pos)\n",
    "\n",
    "time_step = 0.01\n",
    "n_steps = 1000000\n",
    "\n",
    "import time\n",
    "time_start = time.time()\n",
    "traj = odl.getBatchedTrajectory(n_steps, time_step)\n",
    "time_end = time.time()\n",
    "print(\"Time elapsed: \", time_end - time_start)"
   ]
  }
 ],
 "metadata": {
  "kernelspec": {
   "display_name": "IPS",
   "language": "python",
   "name": "python3"
  },
  "language_info": {
   "codemirror_mode": {
    "name": "ipython",
    "version": 3
   },
   "file_extension": ".py",
   "mimetype": "text/x-python",
   "name": "python",
   "nbconvert_exporter": "python",
   "pygments_lexer": "ipython3",
   "version": "3.13.2"
  }
 },
 "nbformat": 4,
 "nbformat_minor": 2
}
