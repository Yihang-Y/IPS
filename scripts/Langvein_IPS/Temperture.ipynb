{
 "cells": [
  {
   "cell_type": "code",
   "execution_count": 1,
   "metadata": {},
   "outputs": [],
   "source": [
    "import sys\n",
    "sys.path.append('../../build')\n",
    "sys.path.append('../')\n",
    "import IPSModule as ips\n",
    "import numpy as np\n",
    "import matplotlib.pyplot as plt\n",
    "\n",
    "import numpy as np\n",
    "import lattpy as lp\n",
    "\n",
    "from utils import *"
   ]
  },
  {
   "cell_type": "code",
   "execution_count": 2,
   "metadata": {},
   "outputs": [],
   "source": [
    "def verify_kinetic_energy_simulation(gamma=1.0, temperature=0.3, rad=10.0,\n",
    "                                     epsilon=1.0, sigma=1.0,\n",
    "                                     steps_per_iter=100, num_iter=500,\n",
    "                                     dt=0.001, show_configuration=False):\n",
    "    # generate initial configuration\n",
    "    init_dis = 2 ** (1.0 / 6.0) * sigma\n",
    "    np.random.seed(42) \n",
    "    # print(\"Initial spacing:\", init_dis)\n",
    "\n",
    "    # generate a hexagonal lattice\n",
    "    _dis = init_dis * 2 / np.sqrt(3)\n",
    "    latt = lp.Lattice.hexagonal(a=_dis)\n",
    "    latt.add_atom()\n",
    "    latt.add_connections()\n",
    "    \n",
    "    # build a donut shape configuration (inner radius 3, outer radius 6)\n",
    "    s = lp.Donut((0, 0), radius_outer=6, radius_inner=3)\n",
    "    latt.build(shape=s, primitive=True)\n",
    "\n",
    "    if show_configuration:\n",
    "        ax = latt.plot()\n",
    "        s.plot(ax)\n",
    "        plt.title(\"Initial Configuration\")\n",
    "        plt.show()\n",
    "\n",
    "    num_particles = latt.data.positions.shape[0]\n",
    "    init_particles_positions = latt.data.positions\n",
    "\n",
    "    # initialize the system\n",
    "    p = ips.LangevinSystem(num_particles, gamma, temperature)\n",
    "    for i in range(num_particles):\n",
    "        for d in range(2):\n",
    "            p.get_positions()[d][i] = init_particles_positions[i][d] / 2\n",
    "            p.get_velocities()[d][i] = 0.0\n",
    "\n",
    "    # setting up the simulator\n",
    "    pair_force_config = {\n",
    "        \"type\": \"LennardJones\",\n",
    "        \"eps\": epsilon,\n",
    "        \"sigma\": sigma\n",
    "    }\n",
    "    confinement_config = {\n",
    "        \"type\": \"Radial\",\n",
    "        \"rad\": rad\n",
    "    }\n",
    "    simulator = ips.IPS_Simulator_Langevin(p)\n",
    "    simulator.init(pair_force_config, confinement_config)\n",
    "\n",
    "    # run the simulation and record kinetic energy\n",
    "    kinetic_energy_list = []\n",
    "    time_steps = []\n",
    "    total_steps = 0\n",
    "\n",
    "    for it in range(num_iter):\n",
    "        ke = calculate_total_kinetic_energy(p.get_velocities())\n",
    "        kinetic_energy_list.append(ke)\n",
    "        time_steps.append(total_steps)\n",
    "        simulator.integrate_n_steps(dt, steps_per_iter)\n",
    "        total_steps += steps_per_iter\n",
    "\n",
    "    # Theoretical expected energy (in 2D, each particle's kinetic energy should be T if mass = 1 and k_B = 1)\n",
    "    expected_energy = num_particles * temperature\n",
    "\n",
    "    # plot kinetic energy evolution vs simulation steps\n",
    "    plt.figure(figsize=(10, 6))\n",
    "    plt.plot(time_steps, kinetic_energy_list, 'b.-', label=\"Simulated Kinetic Energy\")\n",
    "    plt.axhline(expected_energy, color='r', linestyle='--', \n",
    "                label=f\"Theoretical Energy = {expected_energy:.3f}\")\n",
    "    plt.xlabel(\"Simulation Steps\")\n",
    "    plt.ylabel(\"Total Kinetic Energy\")\n",
    "    plt.title(f\"Kinetic Energy Evolution (Temperature = {temperature}, Gamma = {gamma})\")\n",
    "    plt.legend()\n",
    "    plt.grid(True)\n",
    "    plt.show()\n",
    "\n",
    "    mean_energy = np.mean(kinetic_energy_list[:-200])\n",
    "    print(f\"Mean Kinetic Energy: {mean_energy:.3f}\")\n",
    "    print(f\"Expected Kinetic Energy: {expected_energy:.3f}\")\n",
    "    \n",
    "\n",
    "    return time_steps, kinetic_energy_list, expected_energy"
   ]
  },
  {
   "cell_type": "code",
   "execution_count": null,
   "metadata": {},
   "outputs": [],
   "source": [
    "time_steps, kinetic_energy_list, expected_energy = verify_kinetic_energy_simulation()"
   ]
  },
  {
   "cell_type": "code",
   "execution_count": null,
   "metadata": {},
   "outputs": [],
   "source": [
    "time_steps, kinetic_energy_list, expected_energy = verify_kinetic_energy_simulation(gamma=10)"
   ]
  },
  {
   "cell_type": "code",
   "execution_count": null,
   "metadata": {},
   "outputs": [],
   "source": [
    "time_steps, kinetic_energy_list, expected_energy = verify_kinetic_energy_simulation(gamma=0.1)"
   ]
  },
  {
   "cell_type": "code",
   "execution_count": null,
   "metadata": {},
   "outputs": [],
   "source": []
  }
 ],
 "metadata": {
  "kernelspec": {
   "display_name": "IPS",
   "language": "python",
   "name": "python3"
  },
  "language_info": {
   "codemirror_mode": {
    "name": "ipython",
    "version": 3
   },
   "file_extension": ".py",
   "mimetype": "text/x-python",
   "name": "python",
   "nbconvert_exporter": "python",
   "pygments_lexer": "ipython3",
   "version": "3.13.2"
  }
 },
 "nbformat": 4,
 "nbformat_minor": 2
}
