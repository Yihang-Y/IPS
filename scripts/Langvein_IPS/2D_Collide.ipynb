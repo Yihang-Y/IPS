{
 "cells": [
  {
   "cell_type": "code",
   "execution_count": 4,
   "metadata": {},
   "outputs": [],
   "source": [
    "import sys\n",
    "sys.path.append('../../build')\n",
    "sys.path.append('../')\n",
    "import IPSModule as ips\n",
    "import numpy as np\n",
    "import matplotlib.pyplot as plt\n",
    "\n",
    "import numpy as np\n",
    "import lattpy as lp\n",
    "\n",
    "from utils import SimulationVisualizer"
   ]
  },
  {
   "cell_type": "code",
   "execution_count": 29,
   "metadata": {},
   "outputs": [],
   "source": [
    "def generate_circle_cluster(r, x0, y0, initial_spacing, show = False):\n",
    "    \"\"\"generate a cluster of particles in a circle, with radius r and center (x0, y0)\"\"\"\n",
    "    factor = 4\n",
    "    _dis = initial_spacing * factor / np.sqrt(3)\n",
    "    latt = lp.Lattice.hexagonal(a = _dis)\n",
    "    latt.add_atom()\n",
    "    latt.add_connections()\n",
    "    \n",
    "    s = lp.Circle((x0, y0), r * factor)\n",
    "    latt.build(shape = s, primitive=True)\n",
    "    if show:\n",
    "        ax = latt.plot()\n",
    "        s.plot(ax)\n",
    "        plt.show()\n",
    "    num_particles = latt.data.positions.shape[0]\n",
    "    positions = latt.data.positions\n",
    "\n",
    "    positions = (positions - [x0, y0]) / factor + [x0, y0]\n",
    "    return num_particles, positions\n",
    "\n",
    "\n",
    "def run_simulation_experiment(gamma=1.0, temperature=0.4, num_steps=10000, num_frames=50, rad = 15.0,\n",
    "                              cluster1_params={'radius': 3, 'x': -5, 'y': 0, 'vel': 0},\n",
    "                              cluster2_params={'radius': 3, 'x': 5, 'y': 0, 'vel': -1},\n",
    "                              initial_spacing=2 ** (1.0/6.0),\n",
    "                              show_clusters=False):\n",
    "\n",
    "    # generate two clusters of particles\n",
    "    cluster1_num, cluster1_positions = generate_circle_cluster(\n",
    "        cluster1_params['radius'], cluster1_params['x'], cluster1_params['y'],\n",
    "        initial_spacing, show=show_clusters)\n",
    "    \n",
    "    cluster2_num, cluster2_positions = generate_circle_cluster(\n",
    "        cluster2_params['radius'], cluster2_params['x'], cluster2_params['y'],\n",
    "        initial_spacing, show=show_clusters)\n",
    "    \n",
    "    total_num = cluster1_num + cluster2_num\n",
    "\n",
    "    # initialize the particle system\n",
    "    p = ips.LangevinSystem(total_num, gamma, temperature)\n",
    "    \n",
    "    # set initial positions and velocities\n",
    "    for i in range(total_num):\n",
    "        for d in range(2):\n",
    "            if i < cluster1_num:\n",
    "                p.get_positions()[d][i] = cluster1_positions[i][d]\n",
    "                if d == 0:\n",
    "                    p.get_velocities()[d][i] = cluster1_params['vel']\n",
    "            else:\n",
    "                p.get_positions()[d][i] = cluster2_positions[i - cluster1_num][d]\n",
    "                if d == 0:\n",
    "                    p.get_velocities()[d][i] = cluster2_params['vel']\n",
    "                else:\n",
    "                    p.get_velocities()[d][i] = 0.0\n",
    "\n",
    "    # set up the pair force and confinement\n",
    "    pair_force_config = {\n",
    "        \"type\": \"LennardJones\",\n",
    "        \"eps\": 1.0,\n",
    "        \"sigma\": 1.0\n",
    "    }\n",
    "    confinement_config = {\n",
    "        \"type\": \"Radial\",\n",
    "        \"rad\": rad\n",
    "    }\n",
    "    \n",
    "    simulator = ips.IPS_Simulator_Langevin(p)\n",
    "    simulator.init(pair_force_config, confinement_config)\n",
    "    \n",
    "    # do the simulation\n",
    "    draw_interval = num_steps // num_frames\n",
    "    sim_visualizer = SimulationVisualizer(simulator=simulator, particle_system=p,\n",
    "                                          rad=rad, draw_interval=draw_interval, dt=0.001)\n",
    "    \n",
    "    # return the html for\n",
    "    html = sim_visualizer.run_animation(num_steps)\n",
    "    return html"
   ]
  },
  {
   "cell_type": "code",
   "execution_count": null,
   "metadata": {},
   "outputs": [],
   "source": [
    "html = run_simulation_experiment()\n",
    "display(html)"
   ]
  },
  {
   "cell_type": "code",
   "execution_count": null,
   "metadata": {},
   "outputs": [],
   "source": [
    "html = run_simulation_experiment(gamma=0.1, num_steps=50000, num_frames=100)\n",
    "display(html)"
   ]
  },
  {
   "cell_type": "code",
   "execution_count": null,
   "metadata": {},
   "outputs": [],
   "source": [
    "cluster1 = {'radius': 3, 'x': -5, 'y': 0, 'vel': 0}\n",
    "cluster2 = {'radius': 2, 'x': 5, 'y': 0, 'vel': -2}\n",
    "\n",
    "html = run_simulation_experiment(gamma=0.1, num_steps=50000, num_frames=50,\n",
    "                                 cluster1_params=cluster1, cluster2_params=cluster2)\n",
    "display(html)"
   ]
  },
  {
   "cell_type": "code",
   "execution_count": null,
   "metadata": {},
   "outputs": [],
   "source": [
    "cluster1 = {'radius': 3, 'x': -5, 'y': 0, 'vel': 0}\n",
    "cluster2 = {'radius': 2, 'x': 5, 'y': 0, 'vel': -10}\n",
    "\n",
    "html = run_simulation_experiment(gamma=0.1, num_steps=500000, num_frames=300,\n",
    "                                 cluster1_params=cluster1, cluster2_params=cluster2)\n",
    "display(html)"
   ]
  },
  {
   "cell_type": "code",
   "execution_count": null,
   "metadata": {},
   "outputs": [],
   "source": [
    "cluster1 = {'radius': 3, 'x': -5, 'y': 0, 'vel': 0}\n",
    "cluster2 = {'radius': 2, 'x': 5, 'y': 0, 'vel': -10}\n",
    "\n",
    "html = run_simulation_experiment(gamma=0.1, num_steps=5000, num_frames=100,\n",
    "                                 cluster1_params=cluster1, cluster2_params=cluster2)\n",
    "display(html)"
   ]
  },
  {
   "cell_type": "code",
   "execution_count": null,
   "metadata": {},
   "outputs": [],
   "source": [
    "cluster1 = {'radius': 3, 'x': -5, 'y': 0, 'vel': 0}\n",
    "cluster2 = {'radius': 2, 'x': 5, 'y': 0, 'vel': -5}\n",
    "\n",
    "html = run_simulation_experiment(gamma=0.1, num_steps=10000, num_frames=100,\n",
    "                                 cluster1_params=cluster1, cluster2_params=cluster2)\n",
    "display(html)"
   ]
  },
  {
   "cell_type": "code",
   "execution_count": null,
   "metadata": {},
   "outputs": [],
   "source": [
    "cluster1 = {'radius': 3, 'x': -5, 'y': 0, 'vel': 0}\n",
    "cluster2 = {'radius': 2, 'x': 5, 'y': 0, 'vel': -4.2}\n",
    "\n",
    "html = run_simulation_experiment(gamma=0.1, num_steps=10000, num_frames=100,\n",
    "                                 cluster1_params=cluster1, cluster2_params=cluster2)\n",
    "display(html)"
   ]
  },
  {
   "cell_type": "code",
   "execution_count": null,
   "metadata": {},
   "outputs": [],
   "source": [
    "cluster1 = {'radius': 3, 'x': -5, 'y': 0, 'vel': 1}\n",
    "cluster2 = {'radius': 2, 'x': 5, 'y': 0, 'vel': -4.2}\n",
    "\n",
    "html = run_simulation_experiment(gamma=0.1, num_steps=10000, num_frames=100,\n",
    "                                 cluster1_params=cluster1, cluster2_params=cluster2)\n",
    "display(html)"
   ]
  }
 ],
 "metadata": {
  "kernelspec": {
   "display_name": "IPS",
   "language": "python",
   "name": "python3"
  },
  "language_info": {
   "codemirror_mode": {
    "name": "ipython",
    "version": 3
   },
   "file_extension": ".py",
   "mimetype": "text/x-python",
   "name": "python",
   "nbconvert_exporter": "python",
   "pygments_lexer": "ipython3",
   "version": "3.13.2"
  }
 },
 "nbformat": 4,
 "nbformat_minor": 2
}
