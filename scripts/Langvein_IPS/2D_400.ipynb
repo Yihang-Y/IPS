{
 "cells": [
  {
   "cell_type": "code",
   "execution_count": 2,
   "metadata": {},
   "outputs": [],
   "source": [
    "import sys\n",
    "sys.path.append('../../build')\n",
    "sys.path.append('../')\n",
    "import IPSModule as ips\n",
    "import numpy as np\n",
    "import matplotlib.pyplot as plt\n",
    "\n",
    "import numpy as np\n",
    "import lattpy as lp"
   ]
  },
  {
   "cell_type": "code",
   "execution_count": null,
   "metadata": {},
   "outputs": [],
   "source": [
    "gamma = 1\n",
    "temperature = 0.2\n",
    "rad = 15.0\n",
    "\n",
    "epsilon = 1.0\n",
    "sigma = 1.0\n",
    "\n",
    "init_dis = 2 ** (1.0 / 6.0) * sigma\n",
    "np.random.seed(42)  # for reproducibility\n",
    "print(init_dis)\n",
    "\n",
    "# generate the initial configuration\n",
    "_dis = init_dis\n",
    "latt = lp.Lattice.square(a = _dis)\n",
    "latt.add_atom()\n",
    "latt.add_connections()\n",
    "# s = lp.Circle((0, 0), radius=6)\n",
    "# s = lp.Donut((0, 0), radius_outer = 6, radius_inner = 3)\n",
    "s = lp.Shape((20, 20))\n",
    "latt.build(shape = s, primitive=True)\n",
    "ax = latt.plot()\n",
    "s.plot(ax)\n",
    "plt.show()\n",
    "\n",
    "num_particles = latt.data.positions.shape[0]\n",
    "print(num_particles)\n",
    "init_particles_positions = latt.data.positions\n",
    "p = ips.LangevinSystem(num_particles, gamma, temperature)\n",
    "\n",
    "for i in range(num_particles):\n",
    "    for d in range(2):\n",
    "        p.get_positions()[d][i] = init_particles_positions[i][d] - 10\n",
    "        p.get_velocities()[d][i] = 0.0\n",
    "\n",
    "pair_force_config = {\n",
    "    \"type\": \"LennardJones\",\n",
    "    \"eps\": epsilon,\n",
    "    \"sigma\": sigma\n",
    "}\n",
    "\n",
    "confinement_config = {\n",
    "    \"type\": \"Radial\",\n",
    "    \"rad\": rad\n",
    "}\n",
    "simulator = ips.IPS_Simulator_Langevin(p)\n",
    "simulator.init(pair_force_config, confinement_config)"
   ]
  },
  {
   "cell_type": "code",
   "execution_count": null,
   "metadata": {},
   "outputs": [],
   "source": [
    "from utils import SimulationVisualizer\n",
    "\n",
    "num_frames = 200\n",
    "num_step = 100000\n",
    "sim_visualizer = SimulationVisualizer(simulator=simulator, particle_system=p, rad = rad, draw_interval=num_step // num_frames, dt = 0.001)\n",
    "\n",
    "html = sim_visualizer.run_animation(num_step)\n",
    "display(html)"
   ]
  }
 ],
 "metadata": {
  "kernelspec": {
   "display_name": "IPS",
   "language": "python",
   "name": "python3"
  },
  "language_info": {
   "codemirror_mode": {
    "name": "ipython",
    "version": 3
   },
   "file_extension": ".py",
   "mimetype": "text/x-python",
   "name": "python",
   "nbconvert_exporter": "python",
   "pygments_lexer": "ipython3",
   "version": "3.13.2"
  }
 },
 "nbformat": 4,
 "nbformat_minor": 2
}
