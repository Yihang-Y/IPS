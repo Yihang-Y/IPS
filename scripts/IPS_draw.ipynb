{
 "cells": [
  {
   "cell_type": "code",
   "execution_count": null,
   "metadata": {},
   "outputs": [],
   "source": [
    "# read particle data from a file and plot it\n",
    "import numpy as np\n",
    "from matplotlib.animation import FuncAnimation\n",
    "import matplotlib.pyplot as plt\n",
    "import sys\n",
    "from IPython.display import HTML\n",
    "\n",
    "sys.path.append('./..')\n",
    "\n",
    "# read data from file\n",
    "# each line is the position of a particle at a given time\n",
    "# and between different time steps there is a blank line\n",
    "# and plot it in an animation\n",
    "# Function to read particle data from file\n",
    "def read_particle_data(filename):\n",
    "    with open(filename, 'r') as file:\n",
    "        data = file.read().strip().split('\\n\\n')\n",
    "        \n",
    "    particle_data = []\n",
    "    for block in data:\n",
    "        block_data = []\n",
    "        for line in block.split('\\n'):\n",
    "            try:\n",
    "                block_data.append(list(map(float, line.split(\" \")))[:2])\n",
    "            except ValueError:\n",
    "                print(f\"Error reading line: {line}\")\n",
    "                continue\n",
    "        particle_data.append(np.array(block_data))\n",
    "    return particle_data\n",
    "\n",
    "# Function to update the plot\n",
    "def update(frame):\n",
    "    plt.clf()\n",
    "    plt.scatter(particle_data[frame][:, 0], particle_data[frame][:, 1])\n",
    "    plt.xlim(-10, 100)\n",
    "    plt.ylim(-10, 100)\n",
    "    plt.title(f'Time step: {frame * 10}')\n",
    "\n",
    "particle_data = read_particle_data('output.txt')\n",
    "print(len(particle_data))"
   ]
  },
  {
   "cell_type": "code",
   "execution_count": null,
   "metadata": {},
   "outputs": [],
   "source": [
    "fig = plt.figure()\n",
    "# Create animation\n",
    "ani = FuncAnimation(fig, update, frames=range(0, len(particle_data), 1), repeat=False)\n",
    "\n",
    "HTML(ani.to_jshtml())"
   ]
  },
  {
   "cell_type": "code",
   "execution_count": null,
   "metadata": {},
   "outputs": [],
   "source": [
    "# auto pair_force = [eps, sigma](double r) {\n",
    "#         double sigma6 = sigma * sigma * sigma * sigma * sigma * sigma;\n",
    "#         double sigma12 = sigma6 * sigma6;\n",
    "\n",
    "#         double r6 = r * r * r * r * r * r;\n",
    "#         double r8 = r6 * r * r;\n",
    "#         return 4 * eps * (-12 * sigma12 / (r8 * r6) + 6 * sigma6 / (r8));\n",
    "#     };\n",
    "\n",
    "pair_force = lambda eps, sigma, r: 4 * eps * (-12 * sigma**12 / (r**14) + 6 * sigma**6 / (r**8))\n",
    "# pair_force(1, 1, 4)\n",
    "# draw the picture of the pair force\n",
    "r = np.linspace(0.9, 3, 100)\n",
    "plt.plot(r, pair_force(1, 1, r))\n",
    "plt.show()"
   ]
  }
 ],
 "metadata": {
  "kernelspec": {
   "display_name": "Python 3",
   "language": "python",
   "name": "python3"
  },
  "language_info": {
   "codemirror_mode": {
    "name": "ipython",
    "version": 3
   },
   "file_extension": ".py",
   "mimetype": "text/x-python",
   "name": "python",
   "nbconvert_exporter": "python",
   "pygments_lexer": "ipython3",
   "version": "3.11.4"
  }
 },
 "nbformat": 4,
 "nbformat_minor": 2
}
