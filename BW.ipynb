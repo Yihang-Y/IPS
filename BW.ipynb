{
 "cells": [
  {
   "cell_type": "code",
   "execution_count": 2,
   "metadata": {},
   "outputs": [],
   "source": [
    "import sys\n",
    "sys.path.append(\"build\")\n",
    "import BrownianMotion as bm\n",
    "\n",
    "\n",
    "init_pos = bm.position([0])\n",
    "\n",
    "force_term = lambda pos: -4 * pos.x[0] *(pos.x[0]**2 - 1)\n",
    "\n",
    "odl = bm.OverdampedLangevin(1, force_term, init_pos)\n",
    "\n",
    "time_step = 0.01\n",
    "n_steps = 1000000\n",
    "\n",
    "res = odl.getTrajectory(n_steps, time_step)\n"
   ]
  },
  {
   "cell_type": "code",
   "execution_count": null,
   "metadata": {},
   "outputs": [],
   "source": [
    "from matplotlib import pyplot as plt\n",
    "# plt.plot(res)\n",
    "_ = plt.hist(res, bins=20, density=True)"
   ]
  },
  {
   "cell_type": "code",
   "execution_count": null,
   "metadata": {},
   "outputs": [],
   "source": [
    "init_pos = [bm.position([0])] * 1\n",
    "\n",
    "force_func = lambda pos: -4 * pos.x[0] *(pos.x[0]**2 - 1)\n",
    "odl = bm.BatchedOverdampedLangevin(1, force_func, init_pos)\n",
    "\n",
    "time_step = 0.01\n",
    "n_steps = 1000000\n",
    "\n",
    "import time\n",
    "time_start = time.time()\n",
    "traj = odl.getBatchedTrajectory(n_steps, time_step)\n",
    "time_end = time.time()\n",
    "print(\"Time elapsed: \", time_end - time_start)"
   ]
  }
 ],
 "metadata": {
  "kernelspec": {
   "display_name": "IPS",
   "language": "python",
   "name": "python3"
  },
  "language_info": {
   "codemirror_mode": {
    "name": "ipython",
    "version": 3
   },
   "file_extension": ".py",
   "mimetype": "text/x-python",
   "name": "python",
   "nbconvert_exporter": "python",
   "pygments_lexer": "ipython3",
   "version": "3.13.2"
  }
 },
 "nbformat": 4,
 "nbformat_minor": 2
}
